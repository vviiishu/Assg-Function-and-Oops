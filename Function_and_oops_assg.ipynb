{
  "nbformat": 4,
  "nbformat_minor": 0,
  "metadata": {
    "colab": {
      "provenance": []
    },
    "kernelspec": {
      "name": "python3",
      "display_name": "Python 3"
    },
    "language_info": {
      "name": "python"
    }
  },
  "cells": [
    {
      "cell_type": "markdown",
      "source": [
        "Functions are vital in programming for modularity, reusability, and abstraction. They encapsulate tasks, promoting code organization and readability. Functions facilitate debugging and testing by isolating code sections. Their reuse saves time and effort, making programs more efficient and maintainable, while hiding implementation details for improved code comprehension and management.\n"
      ],
      "metadata": {
        "id": "Mq4sjgJhM2Ih"
      }
    },
    {
      "cell_type": "code",
      "source": [
        "def greet_student(name):\n",
        "    return f\"Hello {name} Welcome back to class.\"\n"
      ],
      "metadata": {
        "id": "ecQZuYwzM4fP"
      },
      "execution_count": null,
      "outputs": []
    },
    {
      "cell_type": "markdown",
      "source": [],
      "metadata": {
        "id": "pzwi1eM2hNgZ"
      }
    },
    {
      "cell_type": "code",
      "source": [
        "greet_student(\"Vishal\")"
      ],
      "metadata": {
        "colab": {
          "base_uri": "https://localhost:8080/",
          "height": 36
        },
        "id": "GOVxWKQEOOVG",
        "outputId": "c67f595a-14df-4d50-a54a-d756967bdcae"
      },
      "execution_count": null,
      "outputs": [
        {
          "output_type": "execute_result",
          "data": {
            "text/plain": [
              "'Hello Vishal Welcome back to class.'"
            ],
            "application/vnd.google.colaboratory.intrinsic+json": {
              "type": "string"
            }
          },
          "metadata": {},
          "execution_count": 2
        }
      ]
    },
    {
      "cell_type": "markdown",
      "source": [
        " print is used for displaying information to the user, while return is used to send a value back from a function to the part of the program that called it.\n",
        " print gives output as \"nontype\"\n",
        "\n",
        "\n",
        "\n",
        "\n",
        "\n",
        "\n",
        "\n"
      ],
      "metadata": {
        "id": "ou_Xo1OmPiya"
      }
    },
    {
      "cell_type": "markdown",
      "source": [
        "*args: It is used to pass a variable number of positional arguments to a function. The *args parameter allows you to pass any number of positional arguments to the function, and they will be packed into a tuple.\n",
        "\n",
        "**kwargs: It is used to pass a variable number of keyword arguments (or named arguments) to a function. The **kwargs parameter allows you to pass any number of keyword arguments to the function, and they will be packed into a dictionary.\n"
      ],
      "metadata": {
        "id": "1Wt3TMDXTmVk"
      }
    },
    {
      "cell_type": "markdown",
      "source": [
        "terator is an object that represents a stream of data. The iterator object implements two methods: __iter__() and __next__(). The __iter__() method returns the iterator object itself, and the __next__() method returns the next item from the stream. When there are no more items left in the stream, it raises a StopIteration exception."
      ],
      "metadata": {
        "id": "6Te_k8pIaT0E"
      }
    },
    {
      "cell_type": "code",
      "source": [
        "n=10\n",
        "for i in range(1,n):\n",
        "  print(i**2,end =\" \")"
      ],
      "metadata": {
        "id": "-pljanftaVJ5",
        "colab": {
          "base_uri": "https://localhost:8080/"
        },
        "outputId": "c4a7ee83-8a81-4897-d51e-bdb1c8fb0b95"
      },
      "execution_count": null,
      "outputs": [
        {
          "output_type": "stream",
          "name": "stdout",
          "text": [
            "1 4 9 16 25 36 49 64 81 "
          ]
        }
      ]
    },
    {
      "cell_type": "code",
      "source": [
        "def generate_palindrome_numbers(n):\n",
        "    palindromes = []\n",
        "    for i in range(1, n + 1):\n",
        "        list= str(i)\n",
        "        if list == list[::-1]:\n",
        "            palindromes.append(i)\n",
        "    return palindromes\n",
        "\n",
        "palindrome_numbers = generate_palindrome_numbers(200)\n",
        "print(\"Palindrome numbers up to\",n, \":\", palindrome_numbers)\n"
      ],
      "metadata": {
        "colab": {
          "base_uri": "https://localhost:8080/"
        },
        "id": "i4nq0XvledIA",
        "outputId": "6dcef531-8429-487d-91ad-47f19106b39c"
      },
      "execution_count": null,
      "outputs": [
        {
          "output_type": "stream",
          "name": "stdout",
          "text": [
            "Palindrome numbers up to 10 : [1, 2, 3, 4, 5, 6, 7, 8, 9, 11, 22, 33, 44, 55, 66, 77, 88, 99, 101, 111, 121, 131, 141, 151, 161, 171, 181, 191]\n"
          ]
        }
      ]
    },
    {
      "cell_type": "code",
      "source": [
        "def even(n):\n",
        "  list=[]\n",
        "  for i in range(2,n+1):\n",
        "    if i%2==0:\n",
        "      list.append(i)\n",
        "  return list\n",
        "even(20)"
      ],
      "metadata": {
        "colab": {
          "base_uri": "https://localhost:8080/"
        },
        "id": "2NAs-dp4gib5",
        "outputId": "2e0ec54b-143b-4b5d-fabb-55f1fd8859fb"
      },
      "execution_count": null,
      "outputs": [
        {
          "output_type": "execute_result",
          "data": {
            "text/plain": [
              "[2, 4, 6, 8, 10, 12, 14, 16, 18, 20]"
            ]
          },
          "metadata": {},
          "execution_count": 5
        }
      ]
    },
    {
      "cell_type": "code",
      "source": [
        "sum=lambda x,y:x+y\n",
        "sum(10,15)"
      ],
      "metadata": {
        "colab": {
          "base_uri": "https://localhost:8080/"
        },
        "id": "5h_WJBfriixE",
        "outputId": "f1c31589-6f2d-4895-89d5-6b096164880a"
      },
      "execution_count": null,
      "outputs": [
        {
          "output_type": "execute_result",
          "data": {
            "text/plain": [
              "25"
            ]
          },
          "metadata": {},
          "execution_count": 6
        }
      ]
    },
    {
      "cell_type": "code",
      "source": [
        "square=lambda x:x**2\n",
        "square(15)"
      ],
      "metadata": {
        "colab": {
          "base_uri": "https://localhost:8080/"
        },
        "id": "jrNFjpyrjQ5I",
        "outputId": "3796d65d-f4f6-4a85-c20b-d1630a2c5e92"
      },
      "execution_count": null,
      "outputs": [
        {
          "output_type": "execute_result",
          "data": {
            "text/plain": [
              "225"
            ]
          },
          "metadata": {},
          "execution_count": 7
        }
      ]
    },
    {
      "cell_type": "code",
      "source": [
        "check_even_odd=lambda x : \"even\" if x %2==0 else \"odd\"\n",
        "check_even_odd(15)"
      ],
      "metadata": {
        "colab": {
          "base_uri": "https://localhost:8080/",
          "height": 36
        },
        "id": "JPjcYgtljb4d",
        "outputId": "5d30b98b-5cbb-4468-c7ef-95a81993bb5b"
      },
      "execution_count": null,
      "outputs": [
        {
          "output_type": "execute_result",
          "data": {
            "text/plain": [
              "'odd'"
            ],
            "application/vnd.google.colaboratory.intrinsic+json": {
              "type": "string"
            }
          },
          "metadata": {},
          "execution_count": 8
        }
      ]
    },
    {
      "cell_type": "code",
      "source": [
        "concat=lambda str1,str2:str1+str2\n",
        "concat(\"Vis\",\"hal\")"
      ],
      "metadata": {
        "colab": {
          "base_uri": "https://localhost:8080/",
          "height": 36
        },
        "id": "I0prAZ5ij5VP",
        "outputId": "18966ae7-a09a-4b5f-fd5f-6372dd74b685"
      },
      "execution_count": null,
      "outputs": [
        {
          "output_type": "execute_result",
          "data": {
            "text/plain": [
              "'Vishal'"
            ],
            "application/vnd.google.colaboratory.intrinsic+json": {
              "type": "string"
            }
          },
          "metadata": {},
          "execution_count": 9
        }
      ]
    },
    {
      "cell_type": "code",
      "source": [
        "max_of_three=lambda a,b,c: max(a,b,c)\n",
        "a,b,c=10,12,4\n",
        "max(a,b,c)"
      ],
      "metadata": {
        "colab": {
          "base_uri": "https://localhost:8080/"
        },
        "id": "kTj0EIEDkQgm",
        "outputId": "5fe72c9f-ec79-40a9-b82c-fa83ed5d3db2"
      },
      "execution_count": null,
      "outputs": [
        {
          "output_type": "execute_result",
          "data": {
            "text/plain": [
              "12"
            ]
          },
          "metadata": {},
          "execution_count": 10
        }
      ]
    },
    {
      "cell_type": "code",
      "source": [
        "def square_even(list):\n",
        "  l=[]\n",
        "  for i in list:\n",
        "    if i% 2==0:\n",
        "      l.append(i**2)\n",
        "  return l\n",
        "square_even([1,3,4,8,9,6,5])"
      ],
      "metadata": {
        "colab": {
          "base_uri": "https://localhost:8080/"
        },
        "id": "DwWnRVYQlTvI",
        "outputId": "cef21a35-5ea4-43eb-88af-0513f3a90956"
      },
      "execution_count": null,
      "outputs": [
        {
          "output_type": "execute_result",
          "data": {
            "text/plain": [
              "[16, 64, 36]"
            ]
          },
          "metadata": {},
          "execution_count": 11
        }
      ]
    },
    {
      "cell_type": "code",
      "source": [
        "def product_Positive(list):\n",
        "  prod= 1\n",
        "  for i in list:\n",
        "    if i>0:\n",
        "      prod=prod*i\n",
        "  return prod\n",
        "product_Positive([12,-12,8,-4])"
      ],
      "metadata": {
        "colab": {
          "base_uri": "https://localhost:8080/"
        },
        "id": "QR1GQEwQngIU",
        "outputId": "3aeb02cb-30bd-4e11-c3d7-06f461eece8d"
      },
      "execution_count": null,
      "outputs": [
        {
          "output_type": "execute_result",
          "data": {
            "text/plain": [
              "96"
            ]
          },
          "metadata": {},
          "execution_count": 12
        }
      ]
    },
    {
      "cell_type": "code",
      "source": [
        "def double_odd(list):\n",
        "  l=[]\n",
        "  for i in list:\n",
        "    if i% 2!=0:\n",
        "      l.append(2*i)\n",
        "  return l\n",
        "x=double_odd([1,3,4,8,9,6,5])\n",
        "print(\"double of odd number in a given list is :\",x)"
      ],
      "metadata": {
        "colab": {
          "base_uri": "https://localhost:8080/"
        },
        "id": "HE0sJy7QqZn7",
        "outputId": "5d85ce00-e22c-4adb-f3e2-b07e56e4efcd"
      },
      "execution_count": null,
      "outputs": [
        {
          "output_type": "stream",
          "name": "stdout",
          "text": [
            "double of odd number in a given list is : [2, 6, 18, 10]\n"
          ]
        }
      ]
    },
    {
      "cell_type": "code",
      "source": [
        "def sum_of_cubes(list):\n",
        "  sum=0\n",
        "  for i in list:\n",
        "    sum=sum+i*i*i\n",
        "  return sum\n",
        "sum_of_cubes([1,2,3])"
      ],
      "metadata": {
        "colab": {
          "base_uri": "https://localhost:8080/"
        },
        "id": "k-R501yNreQu",
        "outputId": "94f20e25-ce78-4dca-d489-2c4cfd6e6531"
      },
      "execution_count": null,
      "outputs": [
        {
          "output_type": "execute_result",
          "data": {
            "text/plain": [
              "36"
            ]
          },
          "metadata": {},
          "execution_count": 14
        }
      ]
    },
    {
      "cell_type": "code",
      "source": [
        "def is_prime(n):\n",
        "    if n <= 1:\n",
        "        return False\n",
        "    for i in range(2, int(n ** 0.5) + 1):\n",
        "        if n % i == 0:\n",
        "            return False\n",
        "    return True\n",
        "\n",
        "def filter_prime_numbers(list):\n",
        "    prime_numbers = []\n",
        "    for i in list :\n",
        "        if is_prime(i):\n",
        "            prime_numbers.append(i)\n",
        "    return prime_numbers\n",
        "\n",
        "list = [23, 4, 17, 9, 13, 8, 29, 10, 31]\n",
        "prime_numbers = filter_prime_numbers(list)\n",
        "print(\"Prime numbers from the given list:\", prime_numbers)\n",
        "\n"
      ],
      "metadata": {
        "colab": {
          "base_uri": "https://localhost:8080/"
        },
        "id": "Pb1m4HGhsaBJ",
        "outputId": "fc80c121-0067-43ad-96db-b566b2442a2b"
      },
      "execution_count": null,
      "outputs": [
        {
          "output_type": "stream",
          "name": "stdout",
          "text": [
            "Prime numbers from the given list: [23, 17, 13, 29, 31]\n"
          ]
        }
      ]
    },
    {
      "cell_type": "markdown",
      "source": [
        "Oops **Concepts**"
      ],
      "metadata": {
        "id": "b0agSX-_wvmu"
      }
    },
    {
      "cell_type": "markdown",
      "source": [
        "**Encapsulation** in OOP involves bundling data and methods within a class, hiding the internal state and exposing only a well-defined interface. It ensures data integrity, modularity, and information hiding, enhancing security by restricting direct access to object data. Access modifiers like public, private, and protected control visibility. Encapsulation fosters robust, maintainable code by promoting modularity and reducing complexity. It simplifies understanding and usage of classes, shielding internal implementations from external interference."
      ],
      "metadata": {
        "id": "7O-5Vr4KKep3"
      }
    },
    {
      "cell_type": "markdown",
      "source": [
        "In Python, access modifiers are used to control the visibility of attributes and methods within a class.\n",
        "\n",
        "\n",
        "Public Access: Attributes and methods without underscores are considered public and can be accessed from outside the class.\n",
        "\n",
        "Protected Access: Attributes and methods prefixed with a single underscore (e.g., _variable) are conventionally considered protected. They can be accessed from within the class and its subclasses, but it's a signal that they should not be accessed directly from outside the class.\n",
        "\n",
        "Private Access: Attributes and methods prefixed with double underscores (e.g., __variable) are considered private. They are not accessible directly from outside the class."
      ],
      "metadata": {
        "id": "Jk5Ck4TkLTmk"
      }
    },
    {
      "cell_type": "markdown",
      "source": [
        "In OOP, inheritance enables a subclass to inherit attributes and methods from a superclass, promoting code reuse and hierarchy. Subclasses can override, extend, or specialize inherited functionality. Careful usage maintains code clarity, balancing reusability and maintainability for scalable software development.\n"
      ],
      "metadata": {
        "id": "jaA9nyEhLiUP"
      }
    },
    {
      "cell_type": "markdown",
      "source": [
        "Polymorphism in OOP allows objects to be treated as instances of their superclass, enabling flexibility in method invocation based on the object's specific type. It fosters code reuse and modularity, facilitating dynamic binding and method overriding for adaptable and extensible software design.\n"
      ],
      "metadata": {
        "id": "6lOthJ_FL8eM"
      }
    },
    {
      "cell_type": "markdown",
      "source": [
        "Method overriding in Python occurs when a subclass provides a specific implementation of a method that is already defined in its superclass. The subclass method replaces the superclass method with the same name and signature, allowing for customization of behavior while maintaining a consistent interface. This facilitates polymorphism and dynamic method invocation.\n",
        "\n",
        "\n",
        "\n",
        "\n",
        "\n",
        "\n",
        "\n"
      ],
      "metadata": {
        "id": "z27BhluRMSK9"
      }
    },
    {
      "cell_type": "code",
      "source": [
        "class Animal:\n",
        "    def make_sound(self):\n",
        "        print(\"Generic animal sound\")\n",
        "\n",
        "class DogMammal(Animal):\n",
        "    def make_sound(self):\n",
        "        print(\"Woof\")\n",
        "\n",
        "dog = DogMammal()\n",
        "dog.make_sound()\n"
      ],
      "metadata": {
        "colab": {
          "base_uri": "https://localhost:8080/"
        },
        "id": "nxpd0WVRPfC4",
        "outputId": "b16e3e63-62a9-4e10-aaaa-6cd6a2b645a5"
      },
      "execution_count": null,
      "outputs": [
        {
          "output_type": "stream",
          "name": "stdout",
          "text": [
            "Woof\n"
          ]
        }
      ]
    },
    {
      "cell_type": "code",
      "source": [
        "class Animal:\n",
        "  def method(self):\n",
        "    print(\"animal move\")\n",
        "\n",
        "class Dog(Animal):\n",
        "  def method(self):\n",
        "    print (\"Dogs run\")\n",
        "\n",
        "obj_dog = Dog()\n",
        "obj_dog.method()"
      ],
      "metadata": {
        "colab": {
          "base_uri": "https://localhost:8080/"
        },
        "id": "okk0ncC_PpnF",
        "outputId": "93319fb1-43bf-49f9-f997-e4211a98e02c"
      },
      "execution_count": null,
      "outputs": [
        {
          "output_type": "stream",
          "name": "stdout",
          "text": [
            "Dogs run\n"
          ]
        }
      ]
    },
    {
      "cell_type": "code",
      "source": [
        "class Mammal:\n",
        "  def reproduce(self):\n",
        "    print(\"agiving birth to live young\")\n",
        "\n",
        "class Dog:\n",
        "  def Dog_fun(self):\n",
        "    print (\"Dogs run\")\n",
        "\n",
        "\n",
        "class DogMammal(Dog,Mammal):\n",
        "  def method(self):\n",
        "    print (\"Mammal\")\n",
        "\n",
        "obj=DogMammal()\n",
        "obj.method()\n",
        "obj.Dog_fun()\n",
        "obj.reproduce()"
      ],
      "metadata": {
        "colab": {
          "base_uri": "https://localhost:8080/"
        },
        "id": "eugtFnJcQtWj",
        "outputId": "faf661e5-565a-4a57-98f8-e5652418478f"
      },
      "execution_count": null,
      "outputs": [
        {
          "output_type": "stream",
          "name": "stdout",
          "text": [
            "Mammal\n",
            "Dogs run\n",
            "agiving birth to live young\n"
          ]
        }
      ]
    },
    {
      "cell_type": "code",
      "source": [
        "class Dog:\n",
        "  def make_sound(self):\n",
        "    print (\"Dogs run\")\n",
        "\n",
        "class Germanshepherd(Dog):\n",
        "  def make_sound(self):\n",
        "    print (\"bark\")\n",
        "\n",
        "obj_germanshep = Germanshepherd()\n",
        "obj_germanshep.make_sound()"
      ],
      "metadata": {
        "colab": {
          "base_uri": "https://localhost:8080/"
        },
        "id": "JT_8tpfCS0_r",
        "outputId": "3270cd79-5de9-49e5-af63-e2feea571add"
      },
      "execution_count": null,
      "outputs": [
        {
          "output_type": "stream",
          "name": "stdout",
          "text": [
            "bark\n"
          ]
        }
      ]
    },
    {
      "cell_type": "markdown",
      "source": [
        "n Python, abstraction refers to the concept of hiding the complex implementation details of a piece of code while exposing only the necessary functionalities to the user. Abstraction allows you to focus on what an object does rather than how it does it.\n",
        "\n"
      ],
      "metadata": {
        "id": "ZK9x5hufhac_"
      }
    },
    {
      "cell_type": "code",
      "source": [
        "class Car:\n",
        "    def __init__(self, make, model, year):\n",
        "        self.make = make\n",
        "        self.model = model\n",
        "        self.year = year\n",
        "        self.odometer_reading = 0\n",
        "\n",
        "    def drive(self, miles):\n",
        "        self.odometer_reading += miles\n",
        "        print(f\"You drove {miles} miles.\")\n",
        "\n",
        "    def get_odometer_reading(self):\n",
        "        return self.odometer_reading\n",
        "\n",
        "\n",
        "my_car = Car(\"Toyota\", \"Camry\", 2020)\n",
        "my_car.drive(100)\n",
        "print(\"Odometer reading:\", my_car.get_odometer_reading())\n"
      ],
      "metadata": {
        "colab": {
          "base_uri": "https://localhost:8080/"
        },
        "id": "Bd3Z1KJgiJhd",
        "outputId": "a8b7f1fe-b523-43c4-cf9f-94ea1f08e473"
      },
      "execution_count": null,
      "outputs": [
        {
          "output_type": "stream",
          "name": "stdout",
          "text": [
            "You drove 100 miles.\n",
            "Odometer reading: 100\n"
          ]
        }
      ]
    },
    {
      "cell_type": "markdown",
      "source": [
        "In this example, the Car class abstracts the concept of a car. Users of the class only need to know about its drive method to make the car move and get_odometer_reading method to get the current odometer reading. They don't need to know about the internal attributes or how the methods are implemented."
      ],
      "metadata": {
        "id": "7uQZ_Ej0iRgu"
      }
    },
    {
      "cell_type": "markdown",
      "source": [
        "Abstraction is vital in software development for simplifying complexity, fostering code reuse, and enhancing maintainability. By concealing implementation details, developers can focus on essential functionalities, promoting modular design and encapsulation. This approach facilitates easier understanding, debugging, and modification of code, streamlining development processes. Abstraction encourages the creation of reusable components, improving productivity and scalability across projects. It also enhances team collaboration by providing a common language and framework for communication. Overall, abstraction is indispensable for building robust, flexible, and efficient software systems that can adapt to changing requirements and evolving technology landscapes.\\\n",
        "\n"
      ],
      "metadata": {
        "id": "AtrF4J8IjiUN"
      }
    },
    {
      "cell_type": "code",
      "source": [
        "from abc import ABC, abstractmethod\n",
        "\n",
        "# Abstract class with an abstract method\n",
        "class Shape(ABC):\n",
        "    @abstractmethod\n",
        "    def area(self):\n",
        "        pass\n",
        "\n",
        "# Concrete class implementing the Shape abstract class\n",
        "class Rectangle(Shape):\n",
        "    def __init__(self, width, height):\n",
        "        self.width = width\n",
        "        self.height = height\n",
        "\n",
        "    def area(self):\n",
        "        return self.width * self.height\n",
        "\n",
        "# Regular function\n",
        "def greet(name):\n",
        "    print(f\"Hello, {name}!\")\n",
        "\n",
        "# Usage of the classes and function\n",
        "rectangle = Rectangle(5, 4)\n",
        "print(\"Area of rectangle:\", rectangle.area())\n",
        "\n",
        "greet(\"Vishal\")\n"
      ],
      "metadata": {
        "colab": {
          "base_uri": "https://localhost:8080/"
        },
        "id": "X8eP8pJBjkAW",
        "outputId": "4ccd1981-dda5-40ea-cbe1-58dac4780f9c"
      },
      "execution_count": null,
      "outputs": [
        {
          "output_type": "stream",
          "name": "stdout",
          "text": [
            "Area of rectangle: 20\n",
            "Hello, Vishal!\n"
          ]
        }
      ]
    },
    {
      "cell_type": "markdown",
      "source": [
        "Shape is an abstract class with an abstract method area(). It serves as an abstraction, defining a blueprint for shapes without implementing the exact calculation for area.\n",
        "Rectangle is a concrete class that inherits from Shape and implements the area() method. It provides a specific implementation for calculating the area of a rectangle.\n",
        "greet() is a regular function that takes a name as input and prints a greeting message.\n",
        "Both Rectangle's area() method and greet() function are examples of regular methods. They perform specific tasks when called, without the use of abstract class concepts.\n"
      ],
      "metadata": {
        "id": "Yv_s--bOlU3x"
      }
    },
    {
      "cell_type": "code",
      "source": [
        "from abc import ABC, abstractmethod\n",
        "\n",
        "# Define the interface using an abstract base class (ABC)\n",
        "class Shape(ABC):\n",
        "    @abstractmethod\n",
        "    def area(self):\n",
        "        pass\n",
        "\n",
        "    @abstractmethod\n",
        "    def perimeter(self):\n",
        "        pass\n",
        "\n",
        "# Concrete class implementing the Shape interface\n",
        "class Rectangle(Shape):\n",
        "    def __init__(self, width, height):\n",
        "        self.width = width\n",
        "        self.height = height\n",
        "\n",
        "    def area(self):\n",
        "        return self.width * self.height\n",
        "\n",
        "    def perimeter(self):\n",
        "        return 2 * (self.width + self.height)\n",
        "\n",
        "# Another concrete class implementing the Shape interface\n",
        "class Circle(Shape):\n",
        "    def __init__(self, radius):\n",
        "        self.radius = radius\n",
        "\n",
        "    def area(self):\n",
        "        return 3.14 * self.radius * self.radius\n",
        "\n",
        "    def perimeter(self):\n",
        "        return 2 * 3.14 * self.radius\n",
        "\n",
        "\n",
        "rectangle = Rectangle(5, 4)\n",
        "print(\"Area of rectangle:\", rectangle.area())\n",
        "print(\"Perimeter of rectangle:\", rectangle.perimeter())\n",
        "\n",
        "circle = Circle(3)\n",
        "print(\"Area of circle:\", circle.area())\n",
        "print(\"Perimeter of circle:\", circle.perimeter())\n"
      ],
      "metadata": {
        "colab": {
          "base_uri": "https://localhost:8080/"
        },
        "id": "Kibgy4voldDs",
        "outputId": "adf5c852-a020-483b-d1ce-06fef6ed15bc"
      },
      "execution_count": null,
      "outputs": [
        {
          "output_type": "stream",
          "name": "stdout",
          "text": [
            "Area of rectangle: 20\n",
            "Perimeter of rectangle: 18\n",
            "Area of circle: 28.259999999999998\n",
            "Perimeter of circle: 18.84\n"
          ]
        }
      ]
    },
    {
      "cell_type": "code",
      "source": [
        "class Animal:\n",
        "    def speak(self):\n",
        "        pass\n",
        "\n",
        "class Dog(Animal):\n",
        "    def speak(self):\n",
        "        return \"Woof!\"\n",
        "\n",
        "class Cat(Animal):\n",
        "    def speak(self):\n",
        "        return \"Meow!\"\n",
        "\n",
        "class Cow(Animal):\n",
        "    def speak(self):\n",
        "        return \"Moo!\"\n",
        "\n",
        "# Function demonstrating polymorphism\n",
        "def animal_speak(animal):\n",
        "    return animal.speak()\n",
        "\n",
        "# Usage example\n",
        "dog = Dog()\n",
        "cat = Cat()\n",
        "cow = Cow()\n",
        "\n",
        "print(animal_speak(dog))\n",
        "print(animal_speak(cat))\n",
        "print(animal_speak(cow))\n"
      ],
      "metadata": {
        "colab": {
          "base_uri": "https://localhost:8080/"
        },
        "id": "8Hy1_4zHmHYl",
        "outputId": "c533c0c2-ee3a-4836-8bdd-a615c1972b05"
      },
      "execution_count": null,
      "outputs": [
        {
          "output_type": "stream",
          "name": "stdout",
          "text": [
            "Woof!\n",
            "Meow!\n",
            "Moo!\n"
          ]
        }
      ]
    },
    {
      "cell_type": "markdown",
      "source": [
        "The animal_speak() function demonstrates polymorphism by accepting objects of different subclasses of Animal and calling their speak() methods. Despite calling the same method name, the specific implementation associated with each subclass is executed, showcasing polymorphic behavior."
      ],
      "metadata": {
        "id": "5aoJkrbCnzIc"
      }
    },
    {
      "cell_type": "code",
      "source": [
        "class Vehicle:\n",
        "    def move(self):\n",
        "        return \"Vehicle is moving.\"\n",
        "\n",
        "class Car(Vehicle):\n",
        "    def move(self):\n",
        "        return \"Car is moving on the road.\"\n",
        "\n",
        "# Creating instances and calling the overridden method\n",
        "vehicle = Vehicle()\n",
        "car = Car()\n",
        "\n",
        "print(vehicle.move())\n",
        "print(car.move())\n"
      ],
      "metadata": {
        "colab": {
          "base_uri": "https://localhost:8080/"
        },
        "id": "HI2noFr5n2pn",
        "outputId": "f70788fb-6f6a-4181-bc11-3b60478b30f1"
      },
      "execution_count": null,
      "outputs": [
        {
          "output_type": "stream",
          "name": "stdout",
          "text": [
            "Vehicle is moving.\n",
            "Car is moving on the road.\n"
          ]
        }
      ]
    },
    {
      "cell_type": "code",
      "source": [
        "class Shape:\n",
        "    def area(self):\n",
        "        return 0  # Default implementation\n",
        "\n",
        "class Rectangle(Shape):\n",
        "    def __init__(self, width, height):\n",
        "        self.width = width\n",
        "        self.height = height\n",
        "\n",
        "    def area(self):\n",
        "        return self.width * self.height\n",
        "\n",
        "class Circle(Shape):\n",
        "    def __init__(self, radius):\n",
        "        self.radius = radius\n",
        "\n",
        "    def area(self):\n",
        "        return 3.14 * self.radius * self.radius\n",
        "\n",
        "class Triangle(Shape):\n",
        "    def __init__(self, base, height):\n",
        "        self.base = base\n",
        "        self.height = height\n",
        "\n",
        "    def area(self):\n",
        "        return 0.5 * self.base * self.height\n",
        "\n",
        "# Creating instances and calling the overridden method\n",
        "rectangle = Rectangle(5, 4)\n",
        "circle = Circle(3)\n",
        "triangle = Triangle(6, 4)\n",
        "\n",
        "print(\"Area of Rectangle:\", rectangle.area())\n",
        "print(\"Area of Circle:\", circle.area())\n",
        "print(\"Area of Triangle:\", triangle.area())\n"
      ],
      "metadata": {
        "colab": {
          "base_uri": "https://localhost:8080/"
        },
        "id": "sD1awMAdoiPk",
        "outputId": "08fb7a7b-5b33-4cb0-87db-78867b8f0c97"
      },
      "execution_count": null,
      "outputs": [
        {
          "output_type": "stream",
          "name": "stdout",
          "text": [
            "Area of Rectangle: 20\n",
            "Area of Circle: 28.259999999999998\n",
            "Area of Triangle: 12.0\n"
          ]
        }
      ]
    },
    {
      "cell_type": "code",
      "source": [
        "class Dog:\n",
        "    def speak(self):\n",
        "        return \"Woof!\"\n",
        "\n",
        "class Cat:\n",
        "    def speak(self):\n",
        "        return \"Meow!\"\n",
        "\n",
        "def make_sound(animal):\n",
        "    return animal.speak()\n",
        "\n",
        "dog = Dog()\n",
        "cat = Cat()\n",
        "\n",
        "print(make_sound(dog))  # Output: Woof!\n",
        "print(make_sound(cat))  # Output: Meow!\n"
      ],
      "metadata": {
        "colab": {
          "base_uri": "https://localhost:8080/"
        },
        "id": "qBDqyso1pBZw",
        "outputId": "c17ec949-ff9a-4a5f-acfd-993011b1ed38"
      },
      "execution_count": null,
      "outputs": [
        {
          "output_type": "stream",
          "name": "stdout",
          "text": [
            "Woof!\n",
            "Meow!\n"
          ]
        }
      ]
    },
    {
      "cell_type": "markdown",
      "source": [
        "Dog and Cat classes have a speak() method. The make_sound() function accepts any object that has a speak() method, allowing dog and cat objects to be passed interchangeably, demonstrating polymorphic behavior based on their behavior rather than their type."
      ],
      "metadata": {
        "id": "oTzfyqLtpb-A"
      }
    },
    {
      "cell_type": "code",
      "source": [
        "class Person:\n",
        "    def __init__(self, name, age):\n",
        "        self._name = name  # protected attribute\n",
        "        self.__age = age   # private attribute\n",
        "\n",
        "    @property\n",
        "    def age(self):         # getter property for age\n",
        "        return self.__age\n",
        "\n",
        "    @age.setter\n",
        "    def age(self, value):  # setter property for age\n",
        "        if value >= 0:\n",
        "            self.__age = value\n",
        "        else:\n",
        "            raise ValueError(\"Age must be a positive number.\")\n",
        "\n",
        "# Usage\n",
        "person = Person(\"Vishal\", 24)\n",
        "print(person._name)\n",
        "print(person.age)\n",
        "person.age = 35\n",
        "print(person.age)\n",
        "     # Raises ValueError\n"
      ],
      "metadata": {
        "colab": {
          "base_uri": "https://localhost:8080/"
        },
        "id": "Mn0B1eAepg2W",
        "outputId": "64e4d9c1-0dac-4451-926e-044612c4920a"
      },
      "execution_count": null,
      "outputs": [
        {
          "output_type": "stream",
          "name": "stdout",
          "text": [
            "Vishal\n",
            "24\n",
            "35\n"
          ]
        }
      ]
    },
    {
      "cell_type": "code",
      "source": [
        "class Person:\n",
        "    def __init__(self, name, age):\n",
        "        self._name = name  # protected attribute\n",
        "        self.__age = age   # private attribute\n",
        "\n",
        "    def display_age(self):\n",
        "        print(\"Age:\", self.__age)\n",
        "\n",
        "# Creating an instance of the Person class\n",
        "person = Person(\"Vishal\", 24)\n",
        "\n",
        "# Accessing and modifying protected attribute directly\n",
        "print(\"Protected attribute (name):\", person._name)\n",
        "person._name = \"Ashish\"  # Bypassing encapsulation\n",
        "print(\"Updated name:\", person._name)\n",
        "\n",
        "# Accessing private attribute using name mangling\n",
        "print(\"Private attribute (age):\", person._Person__age)  # Output: 30\n"
      ],
      "metadata": {
        "colab": {
          "base_uri": "https://localhost:8080/"
        },
        "id": "CRJmVLFkqv7w",
        "outputId": "a1481fe8-2c83-4b07-ccac-52c95c338738"
      },
      "execution_count": null,
      "outputs": [
        {
          "output_type": "stream",
          "name": "stdout",
          "text": [
            "Protected attribute (name): Vishal\n",
            "Updated name: Ashish\n",
            "Private attribute (age): 24\n"
          ]
        }
      ]
    },
    {
      "cell_type": "code",
      "source": [
        "class BankAccount:\n",
        "    def __init__(self, initial_balance=0):\n",
        "        self._balance = initial_balance\n",
        "\n",
        "    def deposit(self, amount):\n",
        "        if amount > 0:\n",
        "            self._balance += amount\n",
        "            print(f\"Deposited ${amount}. New balance: rs {self._balance}\")\n",
        "        else:\n",
        "            print(\"Invalid deposit amount. Please deposit a positive amount.\")\n",
        "\n",
        "    def withdraw(self, amount):\n",
        "        if amount > 0:\n",
        "            if self._balance >= amount:\n",
        "                self._balance -= amount\n",
        "                print(f\"Withdrew rs{amount}. New balance: rs {self._balance}\")\n",
        "            else:\n",
        "                print(\"Insufficient funds. Cannot withdraw.\")\n",
        "        else:\n",
        "            print(\"Invalid withdrawal amount. Please withdraw a positive amount.\")\n",
        "\n",
        "    def check_balance(self):\n",
        "        print(f\"Current balance: rs {self._balance}\")\n",
        "\n",
        "\n",
        "account = BankAccount(100)\n",
        "account.check_balance()\n",
        "account.deposit(50)\n",
        "account.withdraw(30)\n",
        "account.check_balance()\n",
        "account.withdraw(200)\n",
        "account.deposit(-20)\n",
        "account.withdraw(-10)\n",
        "\n"
      ],
      "metadata": {
        "colab": {
          "base_uri": "https://localhost:8080/"
        },
        "id": "lQDsuQCUsSIZ",
        "outputId": "b66006aa-ac3b-43bc-8ff1-14fcf1d617f6"
      },
      "execution_count": null,
      "outputs": [
        {
          "output_type": "stream",
          "name": "stdout",
          "text": [
            "Current balance: rs 100\n",
            "Deposited $50. New balance: rs 150\n",
            "Withdrew rs30. New balance: rs 120\n",
            "Current balance: rs 120\n",
            "Insufficient funds. Cannot withdraw.\n",
            "Invalid deposit amount. Please deposit a positive amount.\n",
            "Invalid withdrawal amount. Please withdraw a positive amount.\n"
          ]
        }
      ]
    },
    {
      "cell_type": "code",
      "source": [
        "class Person:\n",
        "    def __init__(self, name, email):\n",
        "        self._name = name  # private attribute for name\n",
        "        self._email = email  # private attribute for email\n",
        "\n",
        "    def set_email(self, email):\n",
        "        self._email = email\n",
        "\n",
        "    def get_email(self):\n",
        "        return self._email\n",
        "\n",
        "\n",
        "person = Person(\"Vishal\", \"vishal@example.com\")\n",
        "\n",
        "# Accessing private attributes directly\n",
        "print(\"Name:\", person._name)\n",
        "print(\"Email:\", person._email)\n",
        "\n",
        "# Using setter method to change email\n",
        "person.set_email(\"ashish.puri@example.com\")\n",
        "\n",
        "# Using getter method to retrieve email\n",
        "print(\"Updated Email:\", person.get_email())\n"
      ],
      "metadata": {
        "colab": {
          "base_uri": "https://localhost:8080/"
        },
        "id": "G0Yf8FJju6zR",
        "outputId": "54668ce7-4ccd-4da3-aad4-e05934fc246f"
      },
      "execution_count": null,
      "outputs": [
        {
          "output_type": "stream",
          "name": "stdout",
          "text": [
            "Name: Vishal\n",
            "Email: vishal@example.com\n",
            "Updated Email: ashish.puri@example.com\n"
          ]
        }
      ]
    },
    {
      "cell_type": "markdown",
      "source": [
        "**50 Ques Completed**"
      ],
      "metadata": {
        "id": "i7-5SPI5vOw2"
      }
    },
    {
      "cell_type": "markdown",
      "source": [
        "Encapsulation, a pillar of object-oriented programming, bundles data and methods within a class, promoting data hiding, abstraction, modularity, and security. By concealing internal data from external access and providing controlled interfaces for interaction, encapsulation ensures data integrity and reduces dependencies on implementation details. This abstraction simplifies code usage, maintenance, and modification, enhancing software robustness. Encapsulation fosters modularity by grouping related functionalities, facilitating easier understanding and management of codebases. Moreover, it strengthens security by restricting unauthorized access to sensitive data. In essence, encapsulation encapsulates the essence of OOP, fostering maintainable, secure, and efficient software development practices."
      ],
      "metadata": {
        "id": "qCbkq3ZhV_Ho"
      }
    },
    {
      "cell_type": "code",
      "source": [
        "def function_decorator(func):\n",
        "    def wrapper(*args, **kwargs):\n",
        "        print(\"Before function execution\")\n",
        "        result = func(*args, **kwargs)\n",
        "        print(\"After function execution\")\n",
        "        return result\n",
        "    return wrapper\n",
        "\n",
        "@function_decorator\n",
        "def simple_function(x, y):\n",
        "    return x + y\n",
        "\n",
        "result = simple_function(5, 10)\n",
        "print(\"Result:\", result)\n"
      ],
      "metadata": {
        "colab": {
          "base_uri": "https://localhost:8080/"
        },
        "id": "_DTkljxDWAMI",
        "outputId": "e5c2876a-ad4b-4229-d2e6-f69c28e56559"
      },
      "execution_count": 4,
      "outputs": [
        {
          "output_type": "stream",
          "name": "stdout",
          "text": [
            "Before function execution\n",
            "After function execution\n",
            "Result: 15\n"
          ]
        }
      ]
    },
    {
      "cell_type": "code",
      "source": [
        "def first_decorator(func):\n",
        "    def wrapper(*args, **kwargs):\n",
        "        print(\"First decorator - Before function execution\")\n",
        "        result = func(*args, **kwargs)\n",
        "        print(\"First decorator - After function execution\")\n",
        "        return result\n",
        "    return wrapper\n",
        "\n",
        "def second_decorator(func):\n",
        "    def wrapper(*args, **kwargs):\n",
        "        print(\"Second decorator - Before function execution\")\n",
        "        result = func(*args, **kwargs)\n",
        "        print(\"Second decorator - After function execution\")\n",
        "        return result\n",
        "    return wrapper\n",
        "\n",
        "@first_decorator\n",
        "@second_decorator\n",
        "def simple_function(x, y):\n",
        "    return x + y\n",
        "\n",
        "result = simple_function(5, 10)\n",
        "print(\"Result:\", result)\n"
      ],
      "metadata": {
        "colab": {
          "base_uri": "https://localhost:8080/"
        },
        "id": "Cwc8BUiHYEl8",
        "outputId": "ebd65815-0166-4da7-8c02-4d3e172856b0"
      },
      "execution_count": 8,
      "outputs": [
        {
          "output_type": "stream",
          "name": "stdout",
          "text": [
            "First decorator - Before function execution\n",
            "Second decorator - Before function execution\n",
            "Second decorator - After function execution\n",
            "First decorator - After function execution\n",
            "Result: 15\n"
          ]
        }
      ]
    },
    {
      "cell_type": "code",
      "source": [
        "def first_decorator(arg1):\n",
        "    def decorator(func):\n",
        "        def wrapper(*args, **kwargs):\n",
        "            print(\"First decorator - Before function execution with argument:\", arg1)\n",
        "            result = func(*args, **kwargs)\n",
        "            print(\"First decorator - After function execution with argument:\", arg1)\n",
        "            return result\n",
        "        return wrapper\n",
        "    return decorator\n",
        "\n",
        "def second_decorator(arg2):\n",
        "    def decorator(func):\n",
        "        def wrapper(*args, **kwargs):\n",
        "            print(\"Second decorator - Before function execution with argument:\", arg2)\n",
        "            result = func(*args, **kwargs)\n",
        "            print(\"Second decorator - After function execution with argument:\", arg2)\n",
        "            return result\n",
        "        return wrapper\n",
        "    return decorator\n",
        "\n",
        "@first_decorator(\"arg1_value\")\n",
        "@second_decorator(\"arg2_value\")\n",
        "def simple_function(x, y):\n",
        "    return x + y\n",
        "\n",
        "# Calling the decorated function\n",
        "result = simple_function(5, 10)\n",
        "print(\"Result:\", result)\n"
      ],
      "metadata": {
        "colab": {
          "base_uri": "https://localhost:8080/"
        },
        "id": "_TPPgQ-pYvAL",
        "outputId": "cd9acb37-b095-49df-9d59-f4028c4fc884"
      },
      "execution_count": 9,
      "outputs": [
        {
          "output_type": "stream",
          "name": "stdout",
          "text": [
            "First decorator - Before function execution with argument: arg1_value\n",
            "Second decorator - Before function execution with argument: arg2_value\n",
            "Second decorator - After function execution with argument: arg2_value\n",
            "First decorator - After function execution with argument: arg1_value\n",
            "Result: 15\n"
          ]
        }
      ]
    },
    {
      "cell_type": "code",
      "source": [
        "from functools import wraps\n",
        "\n",
        "def function_decorator(func):\n",
        "    @wraps(func)  # Preserve metadata of the original function\n",
        "    def wrapper(*args, **kwargs):\n",
        "        print(\"Before function execution\")\n",
        "        result = func(*args, **kwargs)\n",
        "        print(\"After function execution\")\n",
        "        return result\n",
        "    return wrapper\n",
        "\n",
        "@function_decorator\n",
        "def simple_function(x, y):\n",
        "    \"\"\"This is a simple function that adds two numbers.\"\"\"\n",
        "    return x + y\n",
        "\n",
        "result = simple_function(5, 10)\n",
        "print(\"Result:\", result)\n",
        "\n",
        "print(\"Function name:\", simple_function.__name__)\n",
        "print(\"Docstring:\", simple_function.__doc__)\n"
      ],
      "metadata": {
        "colab": {
          "base_uri": "https://localhost:8080/"
        },
        "id": "RL1X0I71Y1sG",
        "outputId": "cb7594eb-69df-4e1c-fb44-cd4bebbb5c5d"
      },
      "execution_count": 10,
      "outputs": [
        {
          "output_type": "stream",
          "name": "stdout",
          "text": [
            "Before function execution\n",
            "After function execution\n",
            "Result: 15\n",
            "Function name: simple_function\n",
            "Docstring: This is a simple function that adds two numbers.\n"
          ]
        }
      ]
    },
    {
      "cell_type": "code",
      "source": [
        "class Calculator:\n",
        "    def add(self, num1, num2):\n",
        "        return num1 + num2\n",
        "\n",
        "calc = Calculator()\n",
        "result = calc.add(5, 10)\n",
        "print(\"Sum:\", result)\n"
      ],
      "metadata": {
        "colab": {
          "base_uri": "https://localhost:8080/"
        },
        "id": "Z6mSbd--ZKIn",
        "outputId": "5cdc3e73-6613-4ba3-f7f3-c4d654814312"
      },
      "execution_count": 12,
      "outputs": [
        {
          "output_type": "stream",
          "name": "stdout",
          "text": [
            "Sum: 15\n"
          ]
        }
      ]
    },
    {
      "cell_type": "code",
      "source": [
        "class StringFormatter:\n",
        "    @staticmethod\n",
        "    def reverse_string(input_string):\n",
        "        return input_string[::-1]\n",
        "\n",
        "# Example usage:\n",
        "reversed_str = StringFormatter.reverse_string(\"hello\")\n",
        "print(\"Reversed string:\", reversed_str)\n"
      ],
      "metadata": {
        "colab": {
          "base_uri": "https://localhost:8080/"
        },
        "id": "MqO9AV6xZWk3",
        "outputId": "fcbc5c94-6b11-457a-e2e2-326c1eb4d8f3"
      },
      "execution_count": 14,
      "outputs": [
        {
          "output_type": "stream",
          "name": "stdout",
          "text": [
            "Reversed string: olleh\n"
          ]
        }
      ]
    },
    {
      "cell_type": "code",
      "source": [
        "class Circle:\n",
        "    @classmethod\n",
        "    def calculate_area(cls, radius):\n",
        "        return 3.14159 * radius ** 2  # Using the formula A = πr^2\n",
        "\n",
        "# Example usage:\n",
        "radius = 5\n",
        "area = Circle.calculate_area(radius)\n",
        "print(\"Area of the circle with radius\", radius, \"is:\", area)\n"
      ],
      "metadata": {
        "colab": {
          "base_uri": "https://localhost:8080/"
        },
        "id": "4uxmB-SvbRJL",
        "outputId": "8d055f03-1b4b-49d9-9760-794b1f8512b4"
      },
      "execution_count": 15,
      "outputs": [
        {
          "output_type": "stream",
          "name": "stdout",
          "text": [
            "Area of the circle with radius 5 is: 78.53975\n"
          ]
        }
      ]
    },
    {
      "cell_type": "code",
      "source": [
        "class TemperatureConverter:\n",
        "    @staticmethod\n",
        "    def celsius_to_fahrenheit(celsius):\n",
        "        return (celsius * 9/5) + 32\n",
        "\n",
        "# Example usage:\n",
        "celsius_value = 25\n",
        "fahrenheit_value = TemperatureConverter.celsius_to_fahrenheit(celsius_value)\n",
        "print(f\"{celsius_value} Celsius is equal to {fahrenheit_value} Fahrenheit.\")\n"
      ],
      "metadata": {
        "colab": {
          "base_uri": "https://localhost:8080/"
        },
        "id": "FQARGjshbjnV",
        "outputId": "27f0b7e2-5605-48d9-effa-b5bc85eb05a1"
      },
      "execution_count": 16,
      "outputs": [
        {
          "output_type": "stream",
          "name": "stdout",
          "text": [
            "25 Celsius is equal to 77.0 Fahrenheit.\n"
          ]
        }
      ]
    },
    {
      "cell_type": "markdown",
      "source": [
        "The __str__() method in Python classes is used to define a string representation of an object. It is called when the str() function or print() function is used on an object instance.\n"
      ],
      "metadata": {
        "id": "xaZidbbwbyaz"
      }
    },
    {
      "cell_type": "code",
      "source": [
        "class Person:\n",
        "    def __init__(self, name, age):\n",
        "        self.name = name\n",
        "        self.age = age\n",
        "\n",
        "    def __str__(self):\n",
        "        return f\"Person(name='{self.name}', age={self.age})\"\n",
        "\n",
        "# Creating an instance of the Person class\n",
        "person = Person(\"Vishal\", 24)\n",
        "\n",
        "# Using str() function\n",
        "print(str(person))\n",
        "\n",
        "# Using print() function directly\n",
        "print(person)\n"
      ],
      "metadata": {
        "colab": {
          "base_uri": "https://localhost:8080/"
        },
        "id": "VcmsJizHbliR",
        "outputId": "19a62476-944a-4e02-a52c-6044230d25b0"
      },
      "execution_count": 18,
      "outputs": [
        {
          "output_type": "stream",
          "name": "stdout",
          "text": [
            "Person(name='Vishal', age=24)\n",
            "Person(name='Vishal', age=24)\n"
          ]
        }
      ]
    },
    {
      "cell_type": "markdown",
      "source": [
        "The __len__() method in Python is used to define the length of an object. It is called when the len() function is used on an object instance.\n"
      ],
      "metadata": {
        "id": "EGlU8WwbcIlw"
      }
    },
    {
      "cell_type": "code",
      "source": [
        "class MyList:\n",
        "    def __init__(self, data):\n",
        "        self.data = data\n",
        "\n",
        "    def __len__(self):\n",
        "        return len(self.data)\n",
        "\n",
        "# Creating an instance of the MyList class\n",
        "my_list = MyList([1, 2, 3, 4, 5])\n",
        "\n",
        "# Using len() function\n",
        "print(len(my_list))\n"
      ],
      "metadata": {
        "colab": {
          "base_uri": "https://localhost:8080/"
        },
        "id": "8Eblayrnb7uD",
        "outputId": "a7218d3e-f6e8-4d09-fefc-44a2051ac9c5"
      },
      "execution_count": 21,
      "outputs": [
        {
          "output_type": "stream",
          "name": "stdout",
          "text": [
            "5\n"
          ]
        }
      ]
    },
    {
      "cell_type": "markdown",
      "source": [
        "The __add__() method in Python classes is used to define the behavior of the addition operator (+) for objects of a class. It allows you to specify how instances of your class should behave when the + operator is used with them."
      ],
      "metadata": {
        "id": "z1b7ojtZcnE5"
      }
    },
    {
      "cell_type": "code",
      "source": [
        "class Vector:\n",
        "    def __init__(self, x, y):\n",
        "        self.x = x\n",
        "        self.y = y\n",
        "\n",
        "    def __add__(self, other):\n",
        "        return Vector(self.x + other.x, self.y + other.y)\n",
        "\n",
        "    def __str__(self):\n",
        "        return f\"Vector({self.x}, {self.y})\"\n",
        "\n",
        "# Creating instances of the Vector class\n",
        "v1 = Vector(1, 2)\n",
        "v2 = Vector(3, 4)\n",
        "\n",
        "# Using the addition operator\n",
        "result = v1 + v2\n",
        "\n",
        "# Printing the result\n",
        "print(result)\n"
      ],
      "metadata": {
        "colab": {
          "base_uri": "https://localhost:8080/"
        },
        "id": "XY0wxnpYcO0k",
        "outputId": "551fd4a8-bee5-402c-977b-87a148523303"
      },
      "execution_count": 23,
      "outputs": [
        {
          "output_type": "stream",
          "name": "stdout",
          "text": [
            "Vector(4, 6)\n"
          ]
        }
      ]
    },
    {
      "cell_type": "markdown",
      "source": [
        "The __ge__() method in Python classes is used to define the behavior of the greater than or equal to comparison operator (>=) for objects of a class. It allows you to specify how instances of your class should behave when compared using the >= operator."
      ],
      "metadata": {
        "id": "Gro1QBeTdBaj"
      }
    },
    {
      "cell_type": "code",
      "source": [
        "class Number:\n",
        "    def __init__(self, value):\n",
        "        self.value = value\n",
        "\n",
        "    def __ge__(self, other):\n",
        "        return self.value >= other.value\n",
        "\n",
        "# Creating instances of the Number class\n",
        "num1 = Number(5)\n",
        "num2 = Number(3)\n",
        "\n",
        "# Using the greater than or equal to comparison operator\n",
        "result = num1 >= num2\n",
        "\n",
        "# Printing the result\n",
        "print(result)  # Output: True\n"
      ],
      "metadata": {
        "colab": {
          "base_uri": "https://localhost:8080/"
        },
        "id": "5hLz3KxGcstv",
        "outputId": "f81e1ede-c3d2-4357-9897-f56a7e4af982"
      },
      "execution_count": 24,
      "outputs": [
        {
          "output_type": "stream",
          "name": "stdout",
          "text": [
            "True\n"
          ]
        }
      ]
    },
    {
      "cell_type": "markdown",
      "source": [
        "The __iter__() and __next__() methods in Python are used to create iterators for objects of a class. The __iter__() method returns an iterator object, and the __next__() method retrieves the next item from the iterator."
      ],
      "metadata": {
        "id": "1sXNKxLiddow"
      }
    },
    {
      "cell_type": "code",
      "source": [
        "class MyIterator:\n",
        "    def __init__(self, limit):\n",
        "        self.limit = limit\n",
        "        self.current = 0\n",
        "\n",
        "    def __iter__(self):\n",
        "        return self\n",
        "\n",
        "    def __next__(self):\n",
        "        if self.current < self.limit:\n",
        "            result = self.current\n",
        "            self.current += 1\n",
        "            return result\n",
        "        else:\n",
        "            raise StopIteration\n",
        "\n",
        "# Creating an instance of the MyIterator class\n",
        "iterator = MyIterator(5)\n",
        "\n",
        "# Iterating over the iterator using a for loop\n",
        "for item in iterator:\n",
        "    print(item)\n"
      ],
      "metadata": {
        "colab": {
          "base_uri": "https://localhost:8080/"
        },
        "id": "S0zHQLnYdHac",
        "outputId": "bd9888fd-52d0-49e9-dd93-2e357745877a"
      },
      "execution_count": 27,
      "outputs": [
        {
          "output_type": "stream",
          "name": "stdout",
          "text": [
            "0\n",
            "1\n",
            "2\n",
            "3\n",
            "4\n"
          ]
        }
      ]
    },
    {
      "cell_type": "markdown",
      "source": [
        "\"getter\" method refers to a method that retrieves the value of a private attribute in a class. It's typically used to encapsulate access to class attributes and provide controlled access to them from outside the class."
      ],
      "metadata": {
        "id": "8dq3nBEmeczF"
      }
    },
    {
      "cell_type": "code",
      "source": [
        "class Circle:\n",
        "    def __init__(self, radius):\n",
        "        self._radius = radius  # Private attribute with leading underscore\n",
        "\n",
        "    @property\n",
        "    def radius(self):\n",
        "        return self._radius\n",
        "\n",
        "# Creating an instance of the Circle class\n",
        "circle = Circle(5)\n",
        "\n",
        "# Accessing the radius attribute using the getter method\n",
        "print(circle.radius)\n"
      ],
      "metadata": {
        "colab": {
          "base_uri": "https://localhost:8080/"
        },
        "id": "M4h9DoxcdcLB",
        "outputId": "71637cc6-9e16-428b-86db-e0b8e149bfd7"
      },
      "execution_count": 28,
      "outputs": [
        {
          "output_type": "stream",
          "name": "stdout",
          "text": [
            "5\n"
          ]
        }
      ]
    },
    {
      "cell_type": "markdown",
      "source": [
        "we can define setter methods to control the modification of class attributes. By using property methods, we can encapsulate the attribute access and modification, allowing for validation or additional logic when setting the attribute values."
      ],
      "metadata": {
        "id": "SEU3DYNEex4N"
      }
    },
    {
      "cell_type": "code",
      "source": [
        "class Circle:\n",
        "    def __init__(self, radius):\n",
        "        self._radius = radius  # Private attribute with leading underscore\n",
        "\n",
        "    @property\n",
        "    def radius(self):\n",
        "        return self._radius\n",
        "\n",
        "    @radius.setter\n",
        "    def radius(self, value):\n",
        "        if value <= 0:\n",
        "            raise ValueError(\"Radius must be positive\")\n",
        "        else:\n",
        "            self._radius = value\n",
        "\n",
        "# Creating an instance of the Circle class\n",
        "circle = Circle(5)\n",
        "\n",
        "# Accessing the radius attribute using the getter method\n",
        "print(circle.radius)\n",
        "\n",
        "# Modifying the radius attribute using the setter method\n",
        "circle.radius = 10\n",
        "print(circle.radius)\n"
      ],
      "metadata": {
        "colab": {
          "base_uri": "https://localhost:8080/"
        },
        "id": "y5nvjzAdebqk",
        "outputId": "3479d628-ef85-49de-e47c-45cb6622299a"
      },
      "execution_count": 31,
      "outputs": [
        {
          "output_type": "stream",
          "name": "stdout",
          "text": [
            "5\n",
            "10\n"
          ]
        }
      ]
    },
    {
      "cell_type": "markdown",
      "source": [
        "The @deleter decorator in Python is used to define a method that will be called when a property is deleted. This decorator is used in conjunction with the @property decorator to define delete behavior for a property."
      ],
      "metadata": {
        "id": "Tl94pqXRf_rr"
      }
    },
    {
      "cell_type": "code",
      "source": [
        "class Circle:\n",
        "    def __init__(self, radius):\n",
        "        self._radius = radius\n",
        "\n",
        "    @property\n",
        "    def radius(self):\n",
        "        return self._radius\n",
        "\n",
        "    @radius.setter\n",
        "    def radius(self, value):\n",
        "        self._radius = value\n",
        "\n",
        "    @radius.deleter\n",
        "    def radius(self):\n",
        "        del self._radius\n",
        "        print(\"Radius deleted\")\n",
        "\n",
        "# Creating an instance of the Circle class\n",
        "circle = Circle(5)\n",
        "\n",
        "# Accessing the radius attribute using the getter method\n",
        "print(circle.radius)\n",
        "\n",
        "# Deleting the radius attribute using the deleter method\n",
        "del circle.radius\n"
      ],
      "metadata": {
        "colab": {
          "base_uri": "https://localhost:8080/"
        },
        "id": "cvhormI1fOC0",
        "outputId": "38af2541-365b-4fcb-80c7-8fb8c385927b"
      },
      "execution_count": 33,
      "outputs": [
        {
          "output_type": "stream",
          "name": "stdout",
          "text": [
            "5\n",
            "Radius deleted\n"
          ]
        }
      ]
    },
    {
      "cell_type": "markdown",
      "source": [
        "Encapsulation in Python refers to the concept of bundling the data (attributes) and methods that operate on the data within a single unit or class. It helps to hide the internal state and implementation details of a class from the outside world.\n",
        "\n",
        "Using getter and setter methods is a common way to achieve encapsulation in Python."
      ],
      "metadata": {
        "id": "pE7mrZZIgbxw"
      }
    },
    {
      "cell_type": "code",
      "source": [
        "class Circle:\n",
        "    def __init__(self, radius):\n",
        "        self._radius = radius  # Private attribute with leading underscore\n",
        "\n",
        "    @property\n",
        "    def radius(self):\n",
        "        return self._radius\n",
        "\n",
        "    @radius.setter\n",
        "    def radius(self, value):\n",
        "        if value <= 0:\n",
        "            raise ValueError(\"Radius must be positive\")\n",
        "        else:\n",
        "            self._radius = value\n",
        "\n",
        "# Creating an instance of the Circle class\n",
        "circle = Circle(5)\n",
        "\n",
        "# Getting the radius using the getter method\n",
        "print(\"Radius:\", circle.radius)\n",
        "\n",
        "# Setting the radius using the setter method\n",
        "circle.radius = 10\n",
        "print(\"Updated Radius:\", circle.radius)\n"
      ],
      "metadata": {
        "colab": {
          "base_uri": "https://localhost:8080/"
        },
        "id": "Q7wwKYZOfnrq",
        "outputId": "97edb0c1-2b0f-4008-f017-a24cc2fa2231"
      },
      "execution_count": 35,
      "outputs": [
        {
          "output_type": "stream",
          "name": "stdout",
          "text": [
            "Radius: 5\n",
            "Updated Radius: 10\n"
          ]
        }
      ]
    }
  ]
}